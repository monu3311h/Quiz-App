{
 "cells": [
  {
   "cell_type": "code",
   "execution_count": 1,
   "id": "3d397334-40e4-4441-9adf-7f5128f0f701",
   "metadata": {},
   "outputs": [],
   "source": [
    "import pandas as pd"
   ]
  },
  {
   "cell_type": "code",
   "execution_count": 2,
   "id": "4642ee56-cdb8-4390-b7fd-cc03acd69a95",
   "metadata": {},
   "outputs": [],
   "source": [
    "import requests"
   ]
  },
  {
   "cell_type": "code",
   "execution_count": 3,
   "id": "4c4842bb-8590-4783-9d52-6ce92a8ca83b",
   "metadata": {},
   "outputs": [],
   "source": [
    "import html"
   ]
  },
  {
   "cell_type": "code",
   "execution_count": 11,
   "id": "4f05870f-234e-470f-8454-207ffab83979",
   "metadata": {},
   "outputs": [],
   "source": [
    "from tkinter import *\n",
    "THEME_COLOR = \"#375362\"\n",
    "\n",
    "class Quiz:\n",
    "    def __init__(self, question_list):\n",
    "        self.question_list = question_list\n",
    "        self.question = 0\n",
    "        self.score = 0\n",
    "\n",
    "\n",
    "        self.window = Tk()\n",
    "        self.window.title('Quizzler')\n",
    "        self.canvas = Canvas(width=300, height=250, bg=THEME_COLOR)\n",
    "        self.question_text = self.canvas.create_text(150, 125, text='', width=280, font=('Arial black', 15, 'bold'))\n",
    "        self.canvas.grid(column=1, row=2, columnspan=2, pady=50)\n",
    "\n",
    "        right_img = PhotoImage(file='./images/true.png')\n",
    "        self.right_button = Button(image=right_img, highlightthickness=0, command=self.true)\n",
    "        self.right_button.grid(column=1, row=3)\n",
    "\n",
    "        wrong_img = PhotoImage(file='./images/false.png')\n",
    "        self.wrong_button = Button(image=wrong_img, highlightthickness=0, command=self.false)\n",
    "        self.wrong_button.grid(column=2, row=3)\n",
    "\n",
    "    \n",
    "        self.show_question()\n",
    "\n",
    "        self.window.mainloop()\n",
    "        \n",
    "              \n",
    "    def show_question(self):\n",
    "        if self.question < len(self.question_list):\n",
    "            current_question = html.unescape(self.question_list[self.question]['question'])\n",
    "            self.canvas.itemconfig(self.question_text, text=f'{self.question+1}.{current_question} (True/False)')\n",
    "        else:\n",
    "            self.canvas.itemconfig(\n",
    "                self.question_text,\n",
    "                text=f\"Quiz Over! Your Score: {self.score}/{len(self.question_list)}\"\n",
    "            )\n",
    "            self.right_button.config(state=\"disabled\")\n",
    "            self.wrong_button.config(state=\"disabled\")\n",
    "            \n",
    "            \n",
    "            \n",
    "\n",
    "    def true(self):\n",
    "        self.user_answer = \"True\"\n",
    "        answer = self.question_list[self.question]['correct_answer']\n",
    "        if self.user_answer == answer:\n",
    "            self.score += 1\n",
    "            self.flash_screen(\"green\")\n",
    "        else:\n",
    "            self.flash_screen(\"red\")\n",
    "        self.question += 1\n",
    "        self.window.after(1000, self.show_question)\n",
    "\n",
    "    def false(self):\n",
    "        self.user_answer = \"False\"\n",
    "        answer = self.question_list[self.question]['correct_answer']\n",
    "        if self.user_answer == answer:\n",
    "            self.score += 1\n",
    "            self.flash_screen(\"green\")\n",
    "        else:\n",
    "            self.flash_screen(\"red\")\n",
    "        self.question += 1\n",
    "        self.window.after(500, self.show_question)\n",
    "\n",
    "    def flash_screen(self, color):\n",
    "        self.canvas.config(bg=color)\n",
    "        self.window.after(300, lambda: self.canvas.config(bg=THEME_COLOR))"
   ]
  },
  {
   "cell_type": "code",
   "execution_count": 13,
   "id": "c58fe5b7-81dc-4533-9c00-1e22360d4bcb",
   "metadata": {},
   "outputs": [],
   "source": [
    "response = requests.get('https://opentdb.com/api.php?amount=10&type=boolean')\n",
    "question_list = response.json()['results']\n",
    "obj = Quiz(question_list)"
   ]
  },
  {
   "cell_type": "code",
   "execution_count": null,
   "id": "4b64101f-cb97-4325-a9de-b2f07d98a919",
   "metadata": {},
   "outputs": [],
   "source": [
    "\n",
    "        "
   ]
  }
 ],
 "metadata": {
  "kernelspec": {
   "display_name": "Python 3 (ipykernel)",
   "language": "python",
   "name": "python3"
  },
  "language_info": {
   "codemirror_mode": {
    "name": "ipython",
    "version": 3
   },
   "file_extension": ".py",
   "mimetype": "text/x-python",
   "name": "python",
   "nbconvert_exporter": "python",
   "pygments_lexer": "ipython3",
   "version": "3.12.4"
  }
 },
 "nbformat": 4,
 "nbformat_minor": 5
}
